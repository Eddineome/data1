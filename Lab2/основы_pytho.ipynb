{
  "metadata": {
    "kernelspec": {
      "name": "python",
      "display_name": "Python (Pyodide)",
      "language": "python"
    },
    "language_info": {
      "codemirror_mode": {
        "name": "python",
        "version": 3
      },
      "file_extension": ".py",
      "mimetype": "text/x-python",
      "name": "python",
      "nbconvert_exporter": "python",
      "pygments_lexer": "ipython3",
      "version": "3.8"
    }
  },
  "nbformat_minor": 4,
  "nbformat": 4,
  "cells": [
    {
      "cell_type": "code",
      "source": "def count_vowels(s: str) -> int:\n    vowels = \"aeiouAEIOU\"\n    return sum(1 for char in s if char in vowels)\n\n# Тесты\ndef test_count_vowels():\n    assert count_vowels(\"hello\") == 2\n    assert count_vowels(\"world\") == 1\n    assert count_vowels(\"HELLO\") == 2\n    assert count_vowels(\"Python\") == 1\n    assert count_vowels(\"bcdfghjklmnpqrstvwxyz\") == 0\n    assert count_vowels(\"\") == 0\n    assert count_vowels(\"AEIOU\") == 5\n    assert count_vowels(\"aeiou\") == 5\n    print(\"Все тесты пройдены!\")\n\n# Запуск тестов\ntest_count_vowels()\n",
      "metadata": {
        "trusted": true
      },
      "outputs": [
        {
          "name": "stdout",
          "text": "Все тесты пройдены!\n",
          "output_type": "stream"
        }
      ],
      "execution_count": 1
    },
    {
      "cell_type": "code",
      "source": "def count_vowels(s: str) -> int:\n    vowels = \"aeiouAEIOU\"\n    return sum(1 for char in s if char in vowels)\n\n# Тесты\ndef test_count_vowels():\n    assert count_vowels(\"hello\") == 2\n    assert count_vowels(\"world\") == 1\n    assert count_vowels(\"HELLO\") == 2\n    assert count_vowels(\"Python\") == 1\n    assert count_vowels(\"bcdfghjklmnpqrstvwxyz\") == 0\n    assert count_vowels(\"\") == 0\n    assert count_vowels(\"AEIOU\") == 5\n    assert count_vowels(\"aeiou\") == 5\n    print(\"Все тесты пройдены!\")\n\n# Запуск тестов\ntest_count_vowels()\n",
      "metadata": {
        "trusted": true
      },
      "outputs": [
        {
          "name": "stdout",
          "text": "Все тесты пройдены!\n",
          "output_type": "stream"
        }
      ],
      "execution_count": 1
    },
    {
      "cell_type": "code",
      "source": "def count_vowels(s: str) -> int:\n    vowels = \"aeiouAEIOU\"\n    return sum(1 for char in s if char in vowels)\n\n# Тесты\ndef test_count_vowels():\n    assert count_vowels(\"hello\") == 2\n    assert count_vowels(\"world\") == 1\n    assert count_vowels(\"HELLO\") == 2\n    assert count_vowels(\"Python\") == 1\n    assert count_vowels(\"bcdfghjklmnpqrstvwxyz\") == 0\n    assert count_vowels(\"\") == 0\n    assert count_vowels(\"AEIOU\") == 5\n    assert count_vowels(\"aeiou\") == 5\n    print(\"Все тесты пройдены!\")\n\n# Запуск тестов\ntest_count_vowels()\n",
      "metadata": {
        "trusted": true
      },
      "outputs": [
        {
          "name": "stdout",
          "text": "Все тесты пройдены!\n",
          "output_type": "stream"
        }
      ],
      "execution_count": 1
    },
    {
      "cell_type": "code",
      "source": "def has_unique_characters(s: str) -> bool:\n    return len(s) == len(set(s))\n\n# Тесты\ndef test_has_unique_characters():\n    assert has_unique_characters(\"hello\") == False\n    assert has_unique_characters(\"world\") == True\n    assert has_unique_characters(\"abcdef\") == True\n    assert has_unique_characters(\"aA\") == True  # Учитывается регистр букв\n    assert has_unique_characters(\"Python\") == True\n    assert has_unique_characters(\"\") == True  # Пустая строка должна возвращать True\n    print(\"Все тесты пройдены!\")\n\n# Запуск тестов\ntest_has_unique_characters()\n",
      "metadata": {
        "trusted": true
      },
      "outputs": [
        {
          "name": "stdout",
          "text": "Все тесты пройдены!\n",
          "output_type": "stream"
        }
      ],
      "execution_count": 2
    },
    {
      "cell_type": "code",
      "source": "def count_bits(n: int) -> int:\n    return bin(n).count('1')\n\n# Тесты\ndef test_count_bits():\n    assert count_bits(0) == 0\n    assert count_bits(1) == 1\n    assert count_bits(2) == 1\n    assert count_bits(3) == 2\n    assert count_bits(4) == 1\n    assert count_bits(255) == 8\n    assert count_bits(1023) == 10\n    assert count_bits(1024) == 1\n    print(\"Все тесты пройдены!\")\n\n# Запуск тестов\ntest_count_bits()\n",
      "metadata": {
        "trusted": true
      },
      "outputs": [
        {
          "name": "stdout",
          "text": "Все тесты пройдены!\n",
          "output_type": "stream"
        }
      ],
      "execution_count": 3
    },
    {
      "cell_type": "code",
      "source": "def magic(n: int) -> int:\n    count = 0\n    while n >= 10:\n        product = 1\n        for digit in str(n):\n            product *= int(digit)\n        n = product\n        count += 1\n    return count\n\n# Тесты\ndef test_magic():\n    assert magic(39) == 3\n    assert magic(4) == 0\n    assert magic(999) == 4\n    assert magic(25) == 2\n    assert magic(1) == 0\n    print(\"Все тесты пройдены!\")\n\n# Запуск тестов\ntest_magic()\n",
      "metadata": {
        "trusted": true
      },
      "outputs": [
        {
          "name": "stdout",
          "text": "Все тесты пройдены!\n",
          "output_type": "stream"
        }
      ],
      "execution_count": 4
    },
    {
      "cell_type": "code",
      "source": "import math\n\ndef mse(pred, true):\n    if len(pred) != len(true):\n        raise ValueError(\"Vectors must have the same length\")\n    return sum((p - t) ** 2 for p, t in zip(pred, true)) / len(pred)\n\n# Тесты\ndef test_mse_fixed():\n    assert math.isclose(mse([1, 2, 3], [1, 2, 3]), 0.0)\n    assert math.isclose(mse([1, 2, 3], [4, 5, 6]), 9.0)\n    assert math.isclose(mse([10, 20, 30], [10, 15, 25]), 16.6667, rel_tol=1e-4)  # Исправленное ожидаемое значение\n    assert math.isclose(mse([0, 0, 0], [0, 0, 0]), 0.0)\n    print(\"Все тесты пройдены!\")\n\n# Запуск тестов\ntest_mse_fixed()\n",
      "metadata": {
        "trusted": true
      },
      "outputs": [
        {
          "name": "stdout",
          "text": "Все тесты пройдены!\n",
          "output_type": "stream"
        }
      ],
      "execution_count": 5
    },
    {
      "cell_type": "code",
      "source": "from collections import Counter\nimport math\n\ndef prime_factors(n: int) -> str:\n    factors = []\n    # Проверка на кратность 2\n    while n % 2 == 0:\n        factors.append(2)\n        n //= 2\n    \n    # Проверка для нечетных факторов\n    for i in range(3, int(math.sqrt(n)) + 1, 2):\n        while n % i == 0:\n            factors.append(i)\n            n //= i\n    \n    # Если n больше 2, то это простое число\n    if n > 2:\n        factors.append(n)\n    \n    factor_counts = Counter(factors)\n    \n    result = []\n    for factor, count in sorted(factor_counts.items()):\n        if count == 1:\n            result.append(f\"({factor})\")\n        else:\n            result.append(f\"({factor}**{count})\")\n    \n    return ''.join(result)\n\n# Тесты\ndef test_prime_factors():\n    assert prime_factors(86240) == \"(2**5)(5)(7**2)(11)\"\n    assert prime_factors(60) == \"(2**2)(3)(5)\"\n    assert prime_factors(13) == \"(13)\"\n    assert prime_factors(100) == \"(2**2)(5**2)\"\n    assert prime_factors(997) == \"(997)\"  # Простое число\n    print(\"Все тесты пройдены!\")\n\n# Запуск тестов\ntest_prime_factors()\n",
      "metadata": {
        "trusted": true
      },
      "outputs": [
        {
          "name": "stdout",
          "text": "Все тесты пройдены!\n",
          "output_type": "stream"
        }
      ],
      "execution_count": 6
    },
    {
      "cell_type": "code",
      "source": "def pyramid(number: int):\n    if number == 0:\n        return \"It is impossible\"\n    \n    total = 0\n    k = 0\n    while total < number:\n        k += 1\n        total += k ** 2\n    if total == number:\n        return k\n    else:\n        return \"It is impossible\"\n\n# Тесты\ndef test_pyramid_final():\n    assert pyramid(14) == 3  # 1^2 + 2^2 + 3^2 = 14\n    assert pyramid(30) == 4  # 1^2 + 2^2 + 3^2 + 4^2 = 30\n    assert pyramid(5) == 2  # 1^2 + 2^2 = 5\n    assert pyramid(55) == 5  # 1^2 + 2^2 + 3^2 + 4^2 + 5^2 = 55\n    assert pyramid(1) == 1  # 1^2 = 1\n    assert pyramid(0) == \"It is impossible\"  # Для 0 невозможно построить пирамиду\n    print(\"Все тесты пройдены!\")\n\n# Запуск тестов\ntest_pyramid_final()\n",
      "metadata": {
        "trusted": true
      },
      "outputs": [
        {
          "name": "stdout",
          "text": "Все тесты пройдены!\n",
          "output_type": "stream"
        }
      ],
      "execution_count": 7
    },
    {
      "cell_type": "code",
      "source": "def is_balanced(number: int) -> bool:\n    num_str = str(number)\n    length = len(num_str)\n    \n    if length % 2 == 0:\n        left_half = num_str[:length // 2 - 1]\n        right_half = num_str[length // 2 + 1:]\n    else:\n        left_half = num_str[:length // 2]\n        right_half = num_str[length // 2 + 1:]\n    \n    return sum(map(int, left_half)) == sum(map(int, right_half))\n\n# Тесты\ndef test_is_balanced():\n    assert is_balanced(123321) == True  # 12 | 33 | 21 => 3 == 3\n    assert is_balanced(12321) == True   # 12 | 3 | 21 => 3 == 3\n    assert is_balanced(123456) == False # 12 | 34 | 56 => 3 != 11\n    assert is_balanced(1221) == True    # 1 | 22 | 1 => 1 == 1\n    assert is_balanced(98765) == False  # 98 | 7 | 65 => 17 != 11\n    print(\"Все тесты пройдены!\")\n\n# Запуск тестов\ntest_is_balanced()\n",
      "metadata": {
        "trusted": true
      },
      "outputs": [
        {
          "name": "stdout",
          "text": "Все тесты пройдены!\n",
          "output_type": "stream"
        }
      ],
      "execution_count": 8
    },
    {
      "cell_type": "code",
      "source": "",
      "metadata": {
        "trusted": true
      },
      "outputs": [],
      "execution_count": null
    }
  ]
}